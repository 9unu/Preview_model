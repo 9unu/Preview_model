{
 "cells": [
  {
   "cell_type": "code",
   "execution_count": 11,
   "metadata": {},
   "outputs": [],
   "source": [
    "import pandas as pd\n",
    "df=pd.read_csv(r\"C:\\Users\\KHU\\Desktop\\Preview_model - 복사본\\review_tagging\\resources_review\\parsing_data\\valid\\valid.csv\")"
   ]
  },
  {
   "cell_type": "code",
   "execution_count": 12,
   "metadata": {},
   "outputs": [
    {
     "data": {
      "text/html": [
       "<div>\n",
       "<style scoped>\n",
       "    .dataframe tbody tr th:only-of-type {\n",
       "        vertical-align: middle;\n",
       "    }\n",
       "\n",
       "    .dataframe tbody tr th {\n",
       "        vertical-align: top;\n",
       "    }\n",
       "\n",
       "    .dataframe thead th {\n",
       "        text-align: right;\n",
       "    }\n",
       "</style>\n",
       "<table border=\"1\" class=\"dataframe\">\n",
       "  <thead>\n",
       "    <tr style=\"text-align: right;\">\n",
       "      <th></th>\n",
       "      <th>Review #</th>\n",
       "      <th>Sentence #</th>\n",
       "      <th>Word</th>\n",
       "      <th>Sentiment</th>\n",
       "      <th>Aspect</th>\n",
       "      <th>Sentiment_Score</th>\n",
       "      <th>Aspect_Score</th>\n",
       "    </tr>\n",
       "  </thead>\n",
       "  <tbody>\n",
       "    <tr>\n",
       "      <th>0</th>\n",
       "      <td>Review 5</td>\n",
       "      <td>Sentence 1</td>\n",
       "      <td>갤럭시S22</td>\n",
       "      <td>O</td>\n",
       "      <td>O</td>\n",
       "      <td>O</td>\n",
       "      <td>O</td>\n",
       "    </tr>\n",
       "    <tr>\n",
       "      <th>1</th>\n",
       "      <td>Review 5</td>\n",
       "      <td>Sentence 1</td>\n",
       "      <td>울트라</td>\n",
       "      <td>O</td>\n",
       "      <td>O</td>\n",
       "      <td>O</td>\n",
       "      <td>O</td>\n",
       "    </tr>\n",
       "    <tr>\n",
       "      <th>2</th>\n",
       "      <td>Review 5</td>\n",
       "      <td>Sentence 1</td>\n",
       "      <td>사용자입니다.</td>\n",
       "      <td>O</td>\n",
       "      <td>O</td>\n",
       "      <td>O</td>\n",
       "      <td>O</td>\n",
       "    </tr>\n",
       "    <tr>\n",
       "      <th>3</th>\n",
       "      <td>Review 5</td>\n",
       "      <td>Sentence 2</td>\n",
       "      <td>케이스를</td>\n",
       "      <td>O</td>\n",
       "      <td>O</td>\n",
       "      <td>O</td>\n",
       "      <td>O</td>\n",
       "    </tr>\n",
       "    <tr>\n",
       "      <th>4</th>\n",
       "      <td>Review 5</td>\n",
       "      <td>Sentence 2</td>\n",
       "      <td>사용하니</td>\n",
       "      <td>O</td>\n",
       "      <td>O</td>\n",
       "      <td>O</td>\n",
       "      <td>O</td>\n",
       "    </tr>\n",
       "  </tbody>\n",
       "</table>\n",
       "</div>"
      ],
      "text/plain": [
       "   Review #  Sentence #     Word Sentiment Aspect Sentiment_Score Aspect_Score\n",
       "0  Review 5  Sentence 1   갤럭시S22         O      O               O            O\n",
       "1  Review 5  Sentence 1      울트라         O      O               O            O\n",
       "2  Review 5  Sentence 1  사용자입니다.         O      O               O            O\n",
       "3  Review 5  Sentence 2     케이스를         O      O               O            O\n",
       "4  Review 5  Sentence 2     사용하니         O      O               O            O"
      ]
     },
     "execution_count": 12,
     "metadata": {},
     "output_type": "execute_result"
    }
   ],
   "source": [
    "df.head()"
   ]
  },
  {
   "cell_type": "code",
   "execution_count": 13,
   "metadata": {},
   "outputs": [],
   "source": [
    "df['Aspect_Score']=df['Aspect_Score'].replace('B-4', 'B-3').replace('B-5', 'B-3').replace('I-4', 'I-3').replace('I-5', 'I-3')"
   ]
  },
  {
   "cell_type": "code",
   "execution_count": 14,
   "metadata": {},
   "outputs": [],
   "source": [
    "etc_list=[\"AS\", \"과충전방지\", \"교환\", \"구성품\", \"그립감\", \"기내반입\", \"기능\", \"기타\",\n",
    "    \"동시충전\", \"문의\", \"배송/포장/발송\", \"배터리를충전하는호환성\", \"부착\", \"서비스\",\n",
    "    \"수명\", \"인증\", \"저전력\", \"케이스\", \"파우치\", \"호환성\"]\n",
    "def remove_etc(text):\n",
    "    for etc in etc_list:\n",
    "        if etc in text:\n",
    "            text='O'\n",
    "    return text\n",
    "\n",
    "df['Aspect']=df['Aspect'].apply(remove_etc)"
   ]
  },
  {
   "cell_type": "code",
   "execution_count": 15,
   "metadata": {},
   "outputs": [],
   "source": [
    "df.to_csv('valid.csv', encoding='utf-8-sig')"
   ]
  },
  {
   "cell_type": "code",
   "execution_count": 16,
   "metadata": {},
   "outputs": [
    {
     "data": {
      "text/plain": [
       "Review #           0\n",
       "Sentence #         0\n",
       "Word               0\n",
       "Sentiment          0\n",
       "Aspect             0\n",
       "Sentiment_Score    0\n",
       "Aspect_Score       0\n",
       "dtype: int64"
      ]
     },
     "execution_count": 16,
     "metadata": {},
     "output_type": "execute_result"
    },
    {
     "ename": "",
     "evalue": "",
     "output_type": "error",
     "traceback": [
      "\u001b[1;31mThe Kernel crashed while executing code in the current cell or a previous cell. \n",
      "\u001b[1;31mPlease review the code in the cell(s) to identify a possible cause of the failure. \n",
      "\u001b[1;31mClick <a href='https://aka.ms/vscodeJupyterKernelCrash'>here</a> for more info. \n",
      "\u001b[1;31mView Jupyter <a href='command:jupyter.viewOutput'>log</a> for further details."
     ]
    }
   ],
   "source": [
    "df.isnull().sum()"
   ]
  }
 ],
 "metadata": {
  "kernelspec": {
   "display_name": "Python 3",
   "language": "python",
   "name": "python3"
  },
  "language_info": {
   "codemirror_mode": {
    "name": "ipython",
    "version": 3
   },
   "file_extension": ".py",
   "mimetype": "text/x-python",
   "name": "python",
   "nbconvert_exporter": "python",
   "pygments_lexer": "ipython3",
   "version": "3.9.19"
  }
 },
 "nbformat": 4,
 "nbformat_minor": 2
}
